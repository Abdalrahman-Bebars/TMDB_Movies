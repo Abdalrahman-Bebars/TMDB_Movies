{
 "cells": [
  {
   "cell_type": "markdown",
   "metadata": {},
   "source": [
    "\n",
    "# Project: TMDB-Movies\n",
    "\n",
    "## Table of Contents\n",
    "<ul>\n",
    "<li><a href=\"#intro\">Introduction</a></li>\n",
    "<li><a href=\"#wrangling\">Data Wrangling</a></li>\n",
    "<li><a href=\"#eda\">Exploratory Data Analysis</a></li>\n",
    "<li><a href=\"#conclusions\">Conclusions</a></li>\n",
    "</ul>"
   ]
  },
  {
   "cell_type": "markdown",
   "metadata": {},
   "source": [
    "<a id='intro'></a>\n",
    "## Introduction\n",
    "\n",
    "this dataset contains data about movies released between 1916 and 2017.\n",
    "* I will go through some analysis focusing on fin-analysis through this period.\n",
    "* I will also put the fin-crisis of 2007-2008 into spotlight and show its impact on movies.\n",
    "* I will also show the richest decade (revenue - number of movies) \n",
    "* the impact of wars on movies production\n"
   ]
  },
  {
   "cell_type": "code",
   "execution_count": 3,
   "metadata": {},
   "outputs": [],
   "source": [
    "# import libraries\n",
    "import pandas as pd\n",
    "import numpy as np \n",
    "import matplotlib.pyplot as plt\n",
    "%matplotlib inline\n",
    "import seaborn as sns"
   ]
  },
  {
   "cell_type": "markdown",
   "metadata": {},
   "source": [
    "<a id='wrangling'></a>\n",
    "## Data Wrangling\n",
    "\n",
    "\n",
    "\n",
    "### General Properties"
   ]
  },
  {
   "cell_type": "code",
   "execution_count": 4,
   "metadata": {},
   "outputs": [],
   "source": [
    "# read data into data frame\n",
    "df= pd.read_csv('tmdb_5000_movies.csv')"
   ]
  },
  {
   "cell_type": "code",
   "execution_count": 5,
   "metadata": {},
   "outputs": [
    {
     "data": {
      "text/html": [
       "<div>\n",
       "<style scoped>\n",
       "    .dataframe tbody tr th:only-of-type {\n",
       "        vertical-align: middle;\n",
       "    }\n",
       "\n",
       "    .dataframe tbody tr th {\n",
       "        vertical-align: top;\n",
       "    }\n",
       "\n",
       "    .dataframe thead th {\n",
       "        text-align: right;\n",
       "    }\n",
       "</style>\n",
       "<table border=\"1\" class=\"dataframe\">\n",
       "  <thead>\n",
       "    <tr style=\"text-align: right;\">\n",
       "      <th></th>\n",
       "      <th>budget</th>\n",
       "      <th>genres</th>\n",
       "      <th>homepage</th>\n",
       "      <th>id</th>\n",
       "      <th>keywords</th>\n",
       "      <th>original_language</th>\n",
       "      <th>original_title</th>\n",
       "      <th>overview</th>\n",
       "      <th>popularity</th>\n",
       "      <th>production_companies</th>\n",
       "      <th>production_countries</th>\n",
       "      <th>release_date</th>\n",
       "      <th>revenue</th>\n",
       "      <th>runtime</th>\n",
       "      <th>spoken_languages</th>\n",
       "      <th>status</th>\n",
       "      <th>tagline</th>\n",
       "      <th>title</th>\n",
       "      <th>vote_average</th>\n",
       "      <th>vote_count</th>\n",
       "    </tr>\n",
       "  </thead>\n",
       "  <tbody>\n",
       "    <tr>\n",
       "      <th>0</th>\n",
       "      <td>237000000</td>\n",
       "      <td>[{\"id\": 28, \"name\": \"Action\"}, {\"id\": 12, \"nam...</td>\n",
       "      <td>http://www.avatarmovie.com/</td>\n",
       "      <td>19995</td>\n",
       "      <td>[{\"id\": 1463, \"name\": \"culture clash\"}, {\"id\":...</td>\n",
       "      <td>en</td>\n",
       "      <td>Avatar</td>\n",
       "      <td>In the 22nd century, a paraplegic Marine is di...</td>\n",
       "      <td>150.437577</td>\n",
       "      <td>[{\"name\": \"Ingenious Film Partners\", \"id\": 289...</td>\n",
       "      <td>[{\"iso_3166_1\": \"US\", \"name\": \"United States o...</td>\n",
       "      <td>2009-12-10</td>\n",
       "      <td>2787965087</td>\n",
       "      <td>162.0</td>\n",
       "      <td>[{\"iso_639_1\": \"en\", \"name\": \"English\"}, {\"iso...</td>\n",
       "      <td>Released</td>\n",
       "      <td>Enter the World of Pandora.</td>\n",
       "      <td>Avatar</td>\n",
       "      <td>7.2</td>\n",
       "      <td>11800</td>\n",
       "    </tr>\n",
       "  </tbody>\n",
       "</table>\n",
       "</div>"
      ],
      "text/plain": [
       "      budget                                             genres  \\\n",
       "0  237000000  [{\"id\": 28, \"name\": \"Action\"}, {\"id\": 12, \"nam...   \n",
       "\n",
       "                      homepage     id  \\\n",
       "0  http://www.avatarmovie.com/  19995   \n",
       "\n",
       "                                            keywords original_language  \\\n",
       "0  [{\"id\": 1463, \"name\": \"culture clash\"}, {\"id\":...                en   \n",
       "\n",
       "  original_title                                           overview  \\\n",
       "0         Avatar  In the 22nd century, a paraplegic Marine is di...   \n",
       "\n",
       "   popularity                               production_companies  \\\n",
       "0  150.437577  [{\"name\": \"Ingenious Film Partners\", \"id\": 289...   \n",
       "\n",
       "                                production_countries release_date     revenue  \\\n",
       "0  [{\"iso_3166_1\": \"US\", \"name\": \"United States o...   2009-12-10  2787965087   \n",
       "\n",
       "   runtime                                   spoken_languages    status  \\\n",
       "0    162.0  [{\"iso_639_1\": \"en\", \"name\": \"English\"}, {\"iso...  Released   \n",
       "\n",
       "                       tagline   title  vote_average  vote_count  \n",
       "0  Enter the World of Pandora.  Avatar           7.2       11800  "
      ]
     },
     "execution_count": 5,
     "metadata": {},
     "output_type": "execute_result"
    }
   ],
   "source": [
    "# review data to know its columns \n",
    "df.head(1)"
   ]
  },
  {
   "cell_type": "code",
   "execution_count": 6,
   "metadata": {
    "scrolled": true
   },
   "outputs": [
    {
     "name": "stdout",
     "output_type": "stream",
     "text": [
      "<class 'pandas.core.frame.DataFrame'>\n",
      "RangeIndex: 4803 entries, 0 to 4802\n",
      "Data columns (total 20 columns):\n",
      "budget                  4803 non-null int64\n",
      "genres                  4803 non-null object\n",
      "homepage                1712 non-null object\n",
      "id                      4803 non-null int64\n",
      "keywords                4803 non-null object\n",
      "original_language       4803 non-null object\n",
      "original_title          4803 non-null object\n",
      "overview                4800 non-null object\n",
      "popularity              4803 non-null float64\n",
      "production_companies    4803 non-null object\n",
      "production_countries    4803 non-null object\n",
      "release_date            4802 non-null object\n",
      "revenue                 4803 non-null int64\n",
      "runtime                 4801 non-null float64\n",
      "spoken_languages        4803 non-null object\n",
      "status                  4803 non-null object\n",
      "tagline                 3959 non-null object\n",
      "title                   4803 non-null object\n",
      "vote_average            4803 non-null float64\n",
      "vote_count              4803 non-null int64\n",
      "dtypes: float64(3), int64(4), object(13)\n",
      "memory usage: 750.5+ KB\n"
     ]
    }
   ],
   "source": [
    "# investigating into data to define the shape and missing values\n",
    "df.info()"
   ]
  },
  {
   "cell_type": "code",
   "execution_count": 7,
   "metadata": {},
   "outputs": [
    {
     "data": {
      "text/plain": [
       "0"
      ]
     },
     "execution_count": 7,
     "metadata": {},
     "output_type": "execute_result"
    }
   ],
   "source": [
    "# check for duplicates\n",
    "df.duplicated().sum()"
   ]
  },
  {
   "cell_type": "markdown",
   "metadata": {},
   "source": [
    "> **notes**: \n",
    "* Data has some columns with null values And the format of some are hard to be handled\n",
    "* Data has no duplicated values\n",
    "* some columns needs to be converted to suitable data types\n",
    "### Data Cleaning "
   ]
  },
  {
   "cell_type": "markdown",
   "metadata": {
    "collapsed": true
   },
   "source": [
    "* I'll start with dropping unwanted columns & limitations to keep the wanted ones to make the data easier and readable"
   ]
  },
  {
   "cell_type": "code",
   "execution_count": 8,
   "metadata": {},
   "outputs": [
    {
     "data": {
      "text/html": [
       "<div>\n",
       "<style scoped>\n",
       "    .dataframe tbody tr th:only-of-type {\n",
       "        vertical-align: middle;\n",
       "    }\n",
       "\n",
       "    .dataframe tbody tr th {\n",
       "        vertical-align: top;\n",
       "    }\n",
       "\n",
       "    .dataframe thead th {\n",
       "        text-align: right;\n",
       "    }\n",
       "</style>\n",
       "<table border=\"1\" class=\"dataframe\">\n",
       "  <thead>\n",
       "    <tr style=\"text-align: right;\">\n",
       "      <th></th>\n",
       "      <th>budget</th>\n",
       "      <th>original_language</th>\n",
       "      <th>popularity</th>\n",
       "      <th>release_date</th>\n",
       "      <th>revenue</th>\n",
       "      <th>status</th>\n",
       "      <th>title</th>\n",
       "      <th>vote_average</th>\n",
       "      <th>vote_count</th>\n",
       "    </tr>\n",
       "  </thead>\n",
       "  <tbody>\n",
       "    <tr>\n",
       "      <th>0</th>\n",
       "      <td>237000000</td>\n",
       "      <td>en</td>\n",
       "      <td>150.437577</td>\n",
       "      <td>2009-12-10</td>\n",
       "      <td>2787965087</td>\n",
       "      <td>Released</td>\n",
       "      <td>Avatar</td>\n",
       "      <td>7.2</td>\n",
       "      <td>11800</td>\n",
       "    </tr>\n",
       "    <tr>\n",
       "      <th>1</th>\n",
       "      <td>300000000</td>\n",
       "      <td>en</td>\n",
       "      <td>139.082615</td>\n",
       "      <td>2007-05-19</td>\n",
       "      <td>961000000</td>\n",
       "      <td>Released</td>\n",
       "      <td>Pirates of the Caribbean: At World's End</td>\n",
       "      <td>6.9</td>\n",
       "      <td>4500</td>\n",
       "    </tr>\n",
       "    <tr>\n",
       "      <th>2</th>\n",
       "      <td>245000000</td>\n",
       "      <td>en</td>\n",
       "      <td>107.376788</td>\n",
       "      <td>2015-10-26</td>\n",
       "      <td>880674609</td>\n",
       "      <td>Released</td>\n",
       "      <td>Spectre</td>\n",
       "      <td>6.3</td>\n",
       "      <td>4466</td>\n",
       "    </tr>\n",
       "  </tbody>\n",
       "</table>\n",
       "</div>"
      ],
      "text/plain": [
       "      budget original_language  popularity release_date     revenue    status  \\\n",
       "0  237000000                en  150.437577   2009-12-10  2787965087  Released   \n",
       "1  300000000                en  139.082615   2007-05-19   961000000  Released   \n",
       "2  245000000                en  107.376788   2015-10-26   880674609  Released   \n",
       "\n",
       "                                      title  vote_average  vote_count  \n",
       "0                                    Avatar           7.2       11800  \n",
       "1  Pirates of the Caribbean: At World's End           6.9        4500  \n",
       "2                                   Spectre           6.3        4466  "
      ]
     },
     "execution_count": 8,
     "metadata": {},
     "output_type": "execute_result"
    }
   ],
   "source": [
    "# list of unwanted columns (useless and columns with limitations)\n",
    "unwanted_columns= ['id','homepage','keywords','overview','production_companies','production_countries','runtime','tagline','original_title','spoken_languages','genres']\n",
    "# drop unwanted columns and showing the data\n",
    "df.drop(unwanted_columns, axis=1, inplace=True)\n",
    "df.head(3)"
   ]
  },
  {
   "cell_type": "code",
   "execution_count": 9,
   "metadata": {
    "scrolled": true
   },
   "outputs": [
    {
     "name": "stdout",
     "output_type": "stream",
     "text": [
      "<class 'pandas.core.frame.DataFrame'>\n",
      "RangeIndex: 4803 entries, 0 to 4802\n",
      "Data columns (total 9 columns):\n",
      "budget               4803 non-null int64\n",
      "original_language    4803 non-null object\n",
      "popularity           4803 non-null float64\n",
      "release_date         4802 non-null object\n",
      "revenue              4803 non-null int64\n",
      "status               4803 non-null object\n",
      "title                4803 non-null object\n",
      "vote_average         4803 non-null float64\n",
      "vote_count           4803 non-null int64\n",
      "dtypes: float64(2), int64(3), object(4)\n",
      "memory usage: 337.8+ KB\n"
     ]
    }
   ],
   "source": [
    "df.info()"
   ]
  },
  {
   "cell_type": "markdown",
   "metadata": {},
   "source": [
    "* convert release date columns data type to datetime to make it easier to handle\n",
    "* extract the year from release date so I can reach out more insights like the year with the most production\n",
    "* fill the null values mode \n",
    "* convert year to int to be more readable\n",
    "* drop release date "
   ]
  },
  {
   "cell_type": "code",
   "execution_count": 10,
   "metadata": {},
   "outputs": [],
   "source": [
    "# make release date columnn a datetime type\n",
    "df['release_date']= pd.to_datetime(df['release_date'])\n",
    "# extract the year into new column\n",
    "df['year'] = pd. DatetimeIndex(df['release_date']).year\n",
    "# filling the NA with the mode\n",
    "df['year'].fillna(df['year'].mode()[0], inplace= True)"
   ]
  },
  {
   "cell_type": "code",
   "execution_count": 11,
   "metadata": {},
   "outputs": [],
   "source": [
    "# conver year column to integer\n",
    "df['year'] = df['year'].astype(int)\n",
    "# drop release date column\n",
    "df.drop(columns='release_date', axis=1, inplace=True)"
   ]
  },
  {
   "cell_type": "code",
   "execution_count": 12,
   "metadata": {},
   "outputs": [
    {
     "name": "stdout",
     "output_type": "stream",
     "text": [
      "<class 'pandas.core.frame.DataFrame'>\n",
      "RangeIndex: 4803 entries, 0 to 4802\n",
      "Data columns (total 9 columns):\n",
      "budget               4803 non-null int64\n",
      "original_language    4803 non-null object\n",
      "popularity           4803 non-null float64\n",
      "revenue              4803 non-null int64\n",
      "status               4803 non-null object\n",
      "title                4803 non-null object\n",
      "vote_average         4803 non-null float64\n",
      "vote_count           4803 non-null int64\n",
      "year                 4803 non-null int32\n",
      "dtypes: float64(2), int32(1), int64(3), object(3)\n",
      "memory usage: 319.0+ KB\n"
     ]
    }
   ],
   "source": [
    "df.info()"
   ]
  },
  {
   "cell_type": "code",
   "execution_count": 13,
   "metadata": {},
   "outputs": [
    {
     "data": {
      "text/html": [
       "<div>\n",
       "<style scoped>\n",
       "    .dataframe tbody tr th:only-of-type {\n",
       "        vertical-align: middle;\n",
       "    }\n",
       "\n",
       "    .dataframe tbody tr th {\n",
       "        vertical-align: top;\n",
       "    }\n",
       "\n",
       "    .dataframe thead th {\n",
       "        text-align: right;\n",
       "    }\n",
       "</style>\n",
       "<table border=\"1\" class=\"dataframe\">\n",
       "  <thead>\n",
       "    <tr style=\"text-align: right;\">\n",
       "      <th></th>\n",
       "      <th>budget</th>\n",
       "      <th>original_language</th>\n",
       "      <th>popularity</th>\n",
       "      <th>revenue</th>\n",
       "      <th>status</th>\n",
       "      <th>title</th>\n",
       "      <th>vote_average</th>\n",
       "      <th>vote_count</th>\n",
       "      <th>year</th>\n",
       "    </tr>\n",
       "  </thead>\n",
       "  <tbody>\n",
       "    <tr>\n",
       "      <th>0</th>\n",
       "      <td>237000000</td>\n",
       "      <td>en</td>\n",
       "      <td>150.437577</td>\n",
       "      <td>2787965087</td>\n",
       "      <td>Released</td>\n",
       "      <td>Avatar</td>\n",
       "      <td>7.2</td>\n",
       "      <td>11800</td>\n",
       "      <td>2009</td>\n",
       "    </tr>\n",
       "    <tr>\n",
       "      <th>1</th>\n",
       "      <td>300000000</td>\n",
       "      <td>en</td>\n",
       "      <td>139.082615</td>\n",
       "      <td>961000000</td>\n",
       "      <td>Released</td>\n",
       "      <td>Pirates of the Caribbean: At World's End</td>\n",
       "      <td>6.9</td>\n",
       "      <td>4500</td>\n",
       "      <td>2007</td>\n",
       "    </tr>\n",
       "  </tbody>\n",
       "</table>\n",
       "</div>"
      ],
      "text/plain": [
       "      budget original_language  popularity     revenue    status  \\\n",
       "0  237000000                en  150.437577  2787965087  Released   \n",
       "1  300000000                en  139.082615   961000000  Released   \n",
       "\n",
       "                                      title  vote_average  vote_count  year  \n",
       "0                                    Avatar           7.2       11800  2009  \n",
       "1  Pirates of the Caribbean: At World's End           6.9        4500  2007  "
      ]
     },
     "execution_count": 13,
     "metadata": {},
     "output_type": "execute_result"
    }
   ],
   "source": [
    "# show the data to check for values\n",
    "df.head(2)"
   ]
  },
  {
   "cell_type": "markdown",
   "metadata": {},
   "source": [
    "* getting some info through describe()\n",
    "* making some visuals to conclude insights used to answer the questions"
   ]
  },
  {
   "cell_type": "code",
   "execution_count": 14,
   "metadata": {
    "scrolled": false
   },
   "outputs": [
    {
     "data": {
      "text/html": [
       "<div>\n",
       "<style scoped>\n",
       "    .dataframe tbody tr th:only-of-type {\n",
       "        vertical-align: middle;\n",
       "    }\n",
       "\n",
       "    .dataframe tbody tr th {\n",
       "        vertical-align: top;\n",
       "    }\n",
       "\n",
       "    .dataframe thead th {\n",
       "        text-align: right;\n",
       "    }\n",
       "</style>\n",
       "<table border=\"1\" class=\"dataframe\">\n",
       "  <thead>\n",
       "    <tr style=\"text-align: right;\">\n",
       "      <th></th>\n",
       "      <th>budget</th>\n",
       "      <th>popularity</th>\n",
       "      <th>revenue</th>\n",
       "      <th>vote_average</th>\n",
       "      <th>vote_count</th>\n",
       "      <th>year</th>\n",
       "    </tr>\n",
       "  </thead>\n",
       "  <tbody>\n",
       "    <tr>\n",
       "      <th>count</th>\n",
       "      <td>4.803000e+03</td>\n",
       "      <td>4803.000000</td>\n",
       "      <td>4.803000e+03</td>\n",
       "      <td>4803.000000</td>\n",
       "      <td>4803.000000</td>\n",
       "      <td>4803.000000</td>\n",
       "    </tr>\n",
       "    <tr>\n",
       "      <th>mean</th>\n",
       "      <td>2.904504e+07</td>\n",
       "      <td>21.492301</td>\n",
       "      <td>8.226064e+07</td>\n",
       "      <td>6.092172</td>\n",
       "      <td>690.217989</td>\n",
       "      <td>2002.470123</td>\n",
       "    </tr>\n",
       "    <tr>\n",
       "      <th>std</th>\n",
       "      <td>4.072239e+07</td>\n",
       "      <td>31.816650</td>\n",
       "      <td>1.628571e+08</td>\n",
       "      <td>1.194612</td>\n",
       "      <td>1234.585891</td>\n",
       "      <td>12.413419</td>\n",
       "    </tr>\n",
       "    <tr>\n",
       "      <th>min</th>\n",
       "      <td>0.000000e+00</td>\n",
       "      <td>0.000000</td>\n",
       "      <td>0.000000e+00</td>\n",
       "      <td>0.000000</td>\n",
       "      <td>0.000000</td>\n",
       "      <td>1916.000000</td>\n",
       "    </tr>\n",
       "    <tr>\n",
       "      <th>25%</th>\n",
       "      <td>7.900000e+05</td>\n",
       "      <td>4.668070</td>\n",
       "      <td>0.000000e+00</td>\n",
       "      <td>5.600000</td>\n",
       "      <td>54.000000</td>\n",
       "      <td>1999.000000</td>\n",
       "    </tr>\n",
       "    <tr>\n",
       "      <th>50%</th>\n",
       "      <td>1.500000e+07</td>\n",
       "      <td>12.921594</td>\n",
       "      <td>1.917000e+07</td>\n",
       "      <td>6.200000</td>\n",
       "      <td>235.000000</td>\n",
       "      <td>2005.000000</td>\n",
       "    </tr>\n",
       "    <tr>\n",
       "      <th>75%</th>\n",
       "      <td>4.000000e+07</td>\n",
       "      <td>28.313505</td>\n",
       "      <td>9.291719e+07</td>\n",
       "      <td>6.800000</td>\n",
       "      <td>737.000000</td>\n",
       "      <td>2011.000000</td>\n",
       "    </tr>\n",
       "    <tr>\n",
       "      <th>max</th>\n",
       "      <td>3.800000e+08</td>\n",
       "      <td>875.581305</td>\n",
       "      <td>2.787965e+09</td>\n",
       "      <td>10.000000</td>\n",
       "      <td>13752.000000</td>\n",
       "      <td>2017.000000</td>\n",
       "    </tr>\n",
       "  </tbody>\n",
       "</table>\n",
       "</div>"
      ],
      "text/plain": [
       "             budget   popularity       revenue  vote_average    vote_count  \\\n",
       "count  4.803000e+03  4803.000000  4.803000e+03   4803.000000   4803.000000   \n",
       "mean   2.904504e+07    21.492301  8.226064e+07      6.092172    690.217989   \n",
       "std    4.072239e+07    31.816650  1.628571e+08      1.194612   1234.585891   \n",
       "min    0.000000e+00     0.000000  0.000000e+00      0.000000      0.000000   \n",
       "25%    7.900000e+05     4.668070  0.000000e+00      5.600000     54.000000   \n",
       "50%    1.500000e+07    12.921594  1.917000e+07      6.200000    235.000000   \n",
       "75%    4.000000e+07    28.313505  9.291719e+07      6.800000    737.000000   \n",
       "max    3.800000e+08   875.581305  2.787965e+09     10.000000  13752.000000   \n",
       "\n",
       "              year  \n",
       "count  4803.000000  \n",
       "mean   2002.470123  \n",
       "std      12.413419  \n",
       "min    1916.000000  \n",
       "25%    1999.000000  \n",
       "50%    2005.000000  \n",
       "75%    2011.000000  \n",
       "max    2017.000000  "
      ]
     },
     "execution_count": 14,
     "metadata": {},
     "output_type": "execute_result"
    }
   ],
   "source": [
    "# showing the statistical discription of the data to determine if there was any outlayers\n",
    "df.describe()"
   ]
  },
  {
   "cell_type": "code",
   "execution_count": 15,
   "metadata": {
    "scrolled": true
   },
   "outputs": [
    {
     "data": {
      "image/png": "[encoded data removed]",
      "text/plain": [
       "<Figure size 432x288 with 1 Axes>"
      ]
     },
     "metadata": {
      "needs_background": "light"
     },
     "output_type": "display_data"
    }
   ],
   "source": [
    "# visualize the popularity of movies through last century\n",
    "df.plot(kind='scatter', x='year', y='popularity');"
   ]
  },
  {
   "cell_type": "code",
   "execution_count": 16,
   "metadata": {},
   "outputs": [
    {
     "data": {
      "image/png": "[encoded data removed]",
      "text/plain": [
       "<Figure size 432x288 with 1 Axes>"
      ]
     },
     "metadata": {
      "needs_background": "light"
     },
     "output_type": "display_data"
    }
   ],
   "source": [
    "# visualize the budgets of movies through last centuary\n",
    "df.plot(kind='scatter', x='year', y='budget');"
   ]
  },
  {
   "cell_type": "code",
   "execution_count": 17,
   "metadata": {},
   "outputs": [
    {
     "data": {
      "image/png": "[encoded data removed]",
      "text/plain": [
       "<Figure size 432x288 with 1 Axes>"
      ]
     },
     "metadata": {
      "needs_background": "light"
     },
     "output_type": "display_data"
    }
   ],
   "source": [
    "# visualize the revenues of movies through last centuary\n",
    "df.plot(kind='scatter', x='year', y='revenue');"
   ]
  },
  {
   "cell_type": "code",
   "execution_count": 18,
   "metadata": {},
   "outputs": [
    {
     "data": {
      "image/png": "[encoded data removed]",
      "text/plain": [
       "<Figure size 1296x1080 with 6 Axes>"
      ]
     },
     "metadata": {
      "needs_background": "light"
     },
     "output_type": "display_data"
    }
   ],
   "source": [
    "# showing the distributions of values\n",
    "df.hist(figsize = (18,15));"
   ]
  },
  {
   "cell_type": "markdown",
   "metadata": {},
   "source": [
    "* budget, popularity, revenue and vote counts are skewed right\n",
    "* vote average mostly normally distributed"
   ]
  },
  {
   "cell_type": "code",
   "execution_count": 19,
   "metadata": {},
   "outputs": [],
   "source": [
    "# Bin edges that will be used to \"cut\" the data into groups\n",
    "bin_edges = [1915, 1930, 1940, 1950, 1960, 1970, 1980, 1990, 2000, 2010, 2017]\n",
    "bin_names = ['20s' , '30s', '40s', '50s', '60s', '70s', '80s', '90s','2000s', '2010s']"
   ]
  },
  {
   "cell_type": "code",
   "execution_count": 20,
   "metadata": {},
   "outputs": [],
   "source": [
    "# grouping the movies into decades\n",
    "df['decade'] = pd.cut(df['year'], bin_edges, labels=bin_names)"
   ]
  },
  {
   "cell_type": "code",
   "execution_count": 21,
   "metadata": {
    "scrolled": false
   },
   "outputs": [
    {
     "data": {
      "text/html": [
       "<div>\n",
       "<style scoped>\n",
       "    .dataframe tbody tr th:only-of-type {\n",
       "        vertical-align: middle;\n",
       "    }\n",
       "\n",
       "    .dataframe tbody tr th {\n",
       "        vertical-align: top;\n",
       "    }\n",
       "\n",
       "    .dataframe thead th {\n",
       "        text-align: right;\n",
       "    }\n",
       "</style>\n",
       "<table border=\"1\" class=\"dataframe\">\n",
       "  <thead>\n",
       "    <tr style=\"text-align: right;\">\n",
       "      <th></th>\n",
       "      <th>budget</th>\n",
       "      <th>original_language</th>\n",
       "      <th>popularity</th>\n",
       "      <th>revenue</th>\n",
       "      <th>status</th>\n",
       "      <th>title</th>\n",
       "      <th>vote_average</th>\n",
       "      <th>vote_count</th>\n",
       "      <th>year</th>\n",
       "      <th>decade</th>\n",
       "    </tr>\n",
       "  </thead>\n",
       "  <tbody>\n",
       "    <tr>\n",
       "      <th>2970</th>\n",
       "      <td>10500000</td>\n",
       "      <td>en</td>\n",
       "      <td>0.037073</td>\n",
       "      <td>123509</td>\n",
       "      <td>Released</td>\n",
       "      <td>There Goes My Baby</td>\n",
       "      <td>8.5</td>\n",
       "      <td>2</td>\n",
       "      <td>1994</td>\n",
       "      <td>90s</td>\n",
       "    </tr>\n",
       "    <tr>\n",
       "      <th>781</th>\n",
       "      <td>60000000</td>\n",
       "      <td>en</td>\n",
       "      <td>27.018886</td>\n",
       "      <td>57490374</td>\n",
       "      <td>Released</td>\n",
       "      <td>Inkheart</td>\n",
       "      <td>6.0</td>\n",
       "      <td>592</td>\n",
       "      <td>2008</td>\n",
       "      <td>2000s</td>\n",
       "    </tr>\n",
       "    <tr>\n",
       "      <th>2090</th>\n",
       "      <td>20000000</td>\n",
       "      <td>en</td>\n",
       "      <td>8.351385</td>\n",
       "      <td>132675402</td>\n",
       "      <td>Released</td>\n",
       "      <td>Bringing Down the House</td>\n",
       "      <td>5.4</td>\n",
       "      <td>183</td>\n",
       "      <td>2003</td>\n",
       "      <td>2000s</td>\n",
       "    </tr>\n",
       "    <tr>\n",
       "      <th>1232</th>\n",
       "      <td>40000000</td>\n",
       "      <td>en</td>\n",
       "      <td>22.491388</td>\n",
       "      <td>58785180</td>\n",
       "      <td>Released</td>\n",
       "      <td>Morning Glory</td>\n",
       "      <td>6.1</td>\n",
       "      <td>412</td>\n",
       "      <td>2010</td>\n",
       "      <td>2000s</td>\n",
       "    </tr>\n",
       "    <tr>\n",
       "      <th>139</th>\n",
       "      <td>150000000</td>\n",
       "      <td>en</td>\n",
       "      <td>63.079003</td>\n",
       "      <td>397850012</td>\n",
       "      <td>Released</td>\n",
       "      <td>Mission: Impossible III</td>\n",
       "      <td>6.5</td>\n",
       "      <td>2028</td>\n",
       "      <td>2006</td>\n",
       "      <td>2000s</td>\n",
       "    </tr>\n",
       "  </tbody>\n",
       "</table>\n",
       "</div>"
      ],
      "text/plain": [
       "         budget original_language  popularity    revenue    status  \\\n",
       "2970   10500000                en    0.037073     123509  Released   \n",
       "781    60000000                en   27.018886   57490374  Released   \n",
       "2090   20000000                en    8.351385  132675402  Released   \n",
       "1232   40000000                en   22.491388   58785180  Released   \n",
       "139   150000000                en   63.079003  397850012  Released   \n",
       "\n",
       "                        title  vote_average  vote_count  year decade  \n",
       "2970       There Goes My Baby           8.5           2  1994    90s  \n",
       "781                  Inkheart           6.0         592  2008  2000s  \n",
       "2090  Bringing Down the House           5.4         183  2003  2000s  \n",
       "1232            Morning Glory           6.1         412  2010  2000s  \n",
       "139   Mission: Impossible III           6.5        2028  2006  2000s  "
      ]
     },
     "execution_count": 21,
     "metadata": {},
     "output_type": "execute_result"
    }
   ],
   "source": [
    "# sgowing some random values to review the data\n",
    "df.sample(5)"
   ]
  },
  {
   "cell_type": "code",
   "execution_count": 22,
   "metadata": {},
   "outputs": [],
   "source": [
    "# getting rid of outlayers\n",
    "df = df.drop(df[(df['budget'] == 0) | (df['revenue'] == 0)].index)"
   ]
  },
  {
   "cell_type": "code",
   "execution_count": 23,
   "metadata": {},
   "outputs": [
    {
     "data": {
      "text/html": [
       "<div>\n",
       "<style scoped>\n",
       "    .dataframe tbody tr th:only-of-type {\n",
       "        vertical-align: middle;\n",
       "    }\n",
       "\n",
       "    .dataframe tbody tr th {\n",
       "        vertical-align: top;\n",
       "    }\n",
       "\n",
       "    .dataframe thead th {\n",
       "        text-align: right;\n",
       "    }\n",
       "</style>\n",
       "<table border=\"1\" class=\"dataframe\">\n",
       "  <thead>\n",
       "    <tr style=\"text-align: right;\">\n",
       "      <th></th>\n",
       "      <th>budget</th>\n",
       "      <th>popularity</th>\n",
       "      <th>revenue</th>\n",
       "      <th>vote_average</th>\n",
       "      <th>vote_count</th>\n",
       "      <th>year</th>\n",
       "    </tr>\n",
       "  </thead>\n",
       "  <tbody>\n",
       "    <tr>\n",
       "      <th>count</th>\n",
       "      <td>3.229000e+03</td>\n",
       "      <td>3229.000000</td>\n",
       "      <td>3.229000e+03</td>\n",
       "      <td>3229.000000</td>\n",
       "      <td>3229.000000</td>\n",
       "      <td>3229.000000</td>\n",
       "    </tr>\n",
       "    <tr>\n",
       "      <th>mean</th>\n",
       "      <td>4.065444e+07</td>\n",
       "      <td>29.033689</td>\n",
       "      <td>1.212430e+08</td>\n",
       "      <td>6.309353</td>\n",
       "      <td>977.287395</td>\n",
       "      <td>2001.680396</td>\n",
       "    </tr>\n",
       "    <tr>\n",
       "      <th>std</th>\n",
       "      <td>4.439674e+07</td>\n",
       "      <td>36.165730</td>\n",
       "      <td>1.863029e+08</td>\n",
       "      <td>0.873891</td>\n",
       "      <td>1414.309577</td>\n",
       "      <td>13.279525</td>\n",
       "    </tr>\n",
       "    <tr>\n",
       "      <th>min</th>\n",
       "      <td>1.000000e+00</td>\n",
       "      <td>0.019984</td>\n",
       "      <td>5.000000e+00</td>\n",
       "      <td>0.000000</td>\n",
       "      <td>0.000000</td>\n",
       "      <td>1916.000000</td>\n",
       "    </tr>\n",
       "    <tr>\n",
       "      <th>25%</th>\n",
       "      <td>1.050000e+07</td>\n",
       "      <td>10.446722</td>\n",
       "      <td>1.700000e+07</td>\n",
       "      <td>5.800000</td>\n",
       "      <td>178.000000</td>\n",
       "      <td>1998.000000</td>\n",
       "    </tr>\n",
       "    <tr>\n",
       "      <th>50%</th>\n",
       "      <td>2.500000e+07</td>\n",
       "      <td>20.410354</td>\n",
       "      <td>5.518472e+07</td>\n",
       "      <td>6.300000</td>\n",
       "      <td>471.000000</td>\n",
       "      <td>2005.000000</td>\n",
       "    </tr>\n",
       "    <tr>\n",
       "      <th>75%</th>\n",
       "      <td>5.500000e+07</td>\n",
       "      <td>37.335721</td>\n",
       "      <td>1.462920e+08</td>\n",
       "      <td>6.900000</td>\n",
       "      <td>1148.000000</td>\n",
       "      <td>2010.000000</td>\n",
       "    </tr>\n",
       "    <tr>\n",
       "      <th>max</th>\n",
       "      <td>3.800000e+08</td>\n",
       "      <td>875.581305</td>\n",
       "      <td>2.787965e+09</td>\n",
       "      <td>8.500000</td>\n",
       "      <td>13752.000000</td>\n",
       "      <td>2016.000000</td>\n",
       "    </tr>\n",
       "  </tbody>\n",
       "</table>\n",
       "</div>"
      ],
      "text/plain": [
       "             budget   popularity       revenue  vote_average    vote_count  \\\n",
       "count  3.229000e+03  3229.000000  3.229000e+03   3229.000000   3229.000000   \n",
       "mean   4.065444e+07    29.033689  1.212430e+08      6.309353    977.287395   \n",
       "std    4.439674e+07    36.165730  1.863029e+08      0.873891   1414.309577   \n",
       "min    1.000000e+00     0.019984  5.000000e+00      0.000000      0.000000   \n",
       "25%    1.050000e+07    10.446722  1.700000e+07      5.800000    178.000000   \n",
       "50%    2.500000e+07    20.410354  5.518472e+07      6.300000    471.000000   \n",
       "75%    5.500000e+07    37.335721  1.462920e+08      6.900000   1148.000000   \n",
       "max    3.800000e+08   875.581305  2.787965e+09      8.500000  13752.000000   \n",
       "\n",
       "              year  \n",
       "count  3229.000000  \n",
       "mean   2001.680396  \n",
       "std      13.279525  \n",
       "min    1916.000000  \n",
       "25%    1998.000000  \n",
       "50%    2005.000000  \n",
       "75%    2010.000000  \n",
       "max    2016.000000  "
      ]
     },
     "execution_count": 23,
     "metadata": {},
     "output_type": "execute_result"
    }
   ],
   "source": [
    "df.describe()"
   ]
  },
  {
   "cell_type": "code",
   "execution_count": 24,
   "metadata": {
    "scrolled": true
   },
   "outputs": [
    {
     "name": "stdout",
     "output_type": "stream",
     "text": [
      "<class 'pandas.core.frame.DataFrame'>\n",
      "Int64Index: 3229 entries, 0 to 4798\n",
      "Data columns (total 10 columns):\n",
      "budget               3229 non-null int64\n",
      "original_language    3229 non-null object\n",
      "popularity           3229 non-null float64\n",
      "revenue              3229 non-null int64\n",
      "status               3229 non-null object\n",
      "title                3229 non-null object\n",
      "vote_average         3229 non-null float64\n",
      "vote_count           3229 non-null int64\n",
      "year                 3229 non-null int32\n",
      "decade               3229 non-null category\n",
      "dtypes: category(1), float64(2), int32(1), int64(3), object(3)\n",
      "memory usage: 243.2+ KB\n"
     ]
    }
   ],
   "source": [
    "df.info()"
   ]
  },
  {
   "cell_type": "markdown",
   "metadata": {},
   "source": [
    "<a id='eda'></a>\n",
    "## Exploratory Data Analysis\n",
    "\n",
    "> **Q1**: which decade was the highest in revenue? which one was the highest in budgets? which one had the biggest number of movies?\n",
    "\n",
    "> **Q2**: what was the most popular decade? which decade has the highest ratings?\n",
    "\n",
    "> **Q3**: Does FIN-crisis of 2007-08 affect movies' budgets, revenues and number?\n",
    "\n",
    "> **Q4**: what was the impact of WWI & WWII on movies production?\n",
    "\n"
   ]
  },
  {
   "cell_type": "markdown",
   "metadata": {},
   "source": [
    "* First i'll make a function to avoid repeating labels "
   ]
  },
  {
   "cell_type": "code",
   "execution_count": 25,
   "metadata": {},
   "outputs": [],
   "source": [
    "def labels_func(xl,yl,title):\n",
    "    plt.title(title, fontsize=12)\n",
    "    plt.xlabel(xl, fontsize=15)\n",
    "    plt.ylabel(yl, fontsize= 15)"
   ]
  },
  {
   "cell_type": "markdown",
   "metadata": {},
   "source": [
    "\n",
    "### Research Question 1 (which decade was the highest in revenue? which one was the highest in budgets? which one had the biggest number of movies?)\n",
    "* group data by decade to determine the answers "
   ]
  },
  {
   "cell_type": "code",
   "execution_count": 27,
   "metadata": {},
   "outputs": [
    {
     "data": {
      "image/png": "[encoded data removed]",
      "text/plain": [
       "<Figure size 432x288 with 1 Axes>"
      ]
     },
     "metadata": {
      "needs_background": "light"
     },
     "output_type": "display_data"
    }
   ],
   "source": [
    "# group data by decades and visualizing the average revenue of each decade\n",
    "df.groupby('decade')['revenue'].mean().plot(kind='barh')\n",
    "labels_func('AVG revenue in 100m','Decade','The average revenue through decades')\n",
    "plt.legend();"
   ]
  },
  {
   "cell_type": "code",
   "execution_count": 29,
   "metadata": {},
   "outputs": [
    {
     "data": {
      "image/png": "[encoded data removed]",
      "text/plain": [
       "<Figure size 432x288 with 1 Axes>"
      ]
     },
     "metadata": {
      "needs_background": "light"
     },
     "output_type": "display_data"
    }
   ],
   "source": [
    "# group data by decades and visualizing the average budget of each decade\n",
    "df.groupby('decade')['budget'].mean().plot(kind='barh')\n",
    "labels_func('AVG budget in 10m','Decade','The average budget through decades')\n",
    "plt.legend();"
   ]
  },
  {
   "cell_type": "code",
   "execution_count": 33,
   "metadata": {},
   "outputs": [
    {
     "data": {
      "image/png": "[encoded data removed]",
      "text/plain": [
       "<Figure size 432x288 with 1 Axes>"
      ]
     },
     "metadata": {
      "needs_background": "light"
     },
     "output_type": "display_data"
    }
   ],
   "source": [
    "# group data by decades and visualizing the number of released movies of each decade\n",
    "df.groupby('decade')['popularity'].count().plot(kind='barh');\n",
    "labels_func('No. Released movies','Decade','The number of released movies through decades')"
   ]
  },
  {
   "cell_type": "markdown",
   "metadata": {},
   "source": [
    "### Research Question 2  (what was the most popular decade? which decade has the highest ratings?)\n",
    "* compare the popularity & ratings over decades"
   ]
  },
  {
   "cell_type": "code",
   "execution_count": 34,
   "metadata": {
    "scrolled": true
   },
   "outputs": [
    {
     "data": {
      "image/png": "[encoded data removed]",
      "text/plain": [
       "<Figure size 432x288 with 1 Axes>"
      ]
     },
     "metadata": {
      "needs_background": "light"
     },
     "output_type": "display_data"
    }
   ],
   "source": [
    "# group data by decades and visualizing the average popularity of each decade\n",
    "df.groupby('decade')['popularity'].mean().plot(kind='barh');\n",
    "labels_func('AVG popularity','Decade','The average popularity through decades')"
   ]
  },
  {
   "cell_type": "code",
   "execution_count": 35,
   "metadata": {},
   "outputs": [
    {
     "data": {
      "image/png": "[encoded data removed]",
      "text/plain": [
       "<Figure size 432x288 with 1 Axes>"
      ]
     },
     "metadata": {
      "needs_background": "light"
     },
     "output_type": "display_data"
    }
   ],
   "source": [
    "# group data by decades and visualizing the average rating of each decade\n",
    "df.groupby('decade')['vote_average'].mean().plot(kind='barh');\n",
    "labels_func('AVG rating','Decade','The average rating through decades')"
   ]
  },
  {
   "cell_type": "markdown",
   "metadata": {},
   "source": [
    "## Researsh Question 3 (Does FIN-crisis of 2007-08 affect movies' budgets, revenues and number?)\n",
    "* make a new dataframe to make it easier to focus on that period\n",
    "* used 'year' to follow the production before, over and after the crisis"
   ]
  },
  {
   "cell_type": "code",
   "execution_count": 37,
   "metadata": {},
   "outputs": [],
   "source": [
    "# fillter data and saving it into new dataframe (fin_crisis)\n",
    "fin_crisis = df.query('year > 2002') "
   ]
  },
  {
   "cell_type": "code",
   "execution_count": 38,
   "metadata": {},
   "outputs": [
    {
     "data": {
      "image/png": "[encoded data removed]",
      "text/plain": [
       "<Figure size 432x288 with 1 Axes>"
      ]
     },
     "metadata": {
      "needs_background": "light"
     },
     "output_type": "display_data"
    }
   ],
   "source": [
    "# group data by year and visualizing the number of movies released each year\n",
    "fin_crisis.groupby('year')['popularity'].count().plot(kind= 'barh');\n",
    "labels_func('Movies released','year','The number of movies released after 2002')"
   ]
  },
  {
   "cell_type": "code",
   "execution_count": 50,
   "metadata": {},
   "outputs": [
    {
     "data": {
      "image/png": "[encoded data removed]",
      "text/plain": [
       "<Figure size 432x288 with 1 Axes>"
      ]
     },
     "metadata": {
      "needs_background": "light"
     },
     "output_type": "display_data"
    }
   ],
   "source": [
    "# group data by year and visualizing the average budget each year\n",
    "fin_crisis.groupby('year')['budget'].mean().plot(kind= 'barh');\n",
    "labels_func('AVG budget in 10m','year','The average budget after 2002')\n",
    "plt.legend();"
   ]
  },
  {
   "cell_type": "code",
   "execution_count": 49,
   "metadata": {},
   "outputs": [
    {
     "data": {
      "image/png": "[encoded data removed]",
      "text/plain": [
       "<Figure size 432x288 with 1 Axes>"
      ]
     },
     "metadata": {
      "needs_background": "light"
     },
     "output_type": "display_data"
    }
   ],
   "source": [
    "# group data by year and visualizing the average revenue each year\n",
    "fin_crisis.groupby('year')['revenue'].mean().plot(kind= 'barh');\n",
    "labels_func('AVG revenue in 100m','year','The average revenue after 2002')\n",
    "plt.legend();"
   ]
  },
  {
   "cell_type": "markdown",
   "metadata": {},
   "source": [
    "## Researsh Question 4 (what was the impact of WWI & WWII on movies production?)\n",
    "* make new data frame to track the production through WWI & WWII and the period between them\n",
    "* kept track of budget & revenue during wars "
   ]
  },
  {
   "cell_type": "code",
   "execution_count": 41,
   "metadata": {},
   "outputs": [],
   "source": [
    "# filter data and saving it into new dataframe (ww_impact)\n",
    "ww_impact = df.query('year < 1950')"
   ]
  },
  {
   "cell_type": "code",
   "execution_count": 42,
   "metadata": {},
   "outputs": [
    {
     "data": {
      "image/png": "[encoded data removed]",
      "text/plain": [
       "<Figure size 432x288 with 1 Axes>"
      ]
     },
     "metadata": {
      "needs_background": "light"
     },
     "output_type": "display_data"
    }
   ],
   "source": [
    "# group data by year and visualizing the number of movies released each year\n",
    "ww_impact.groupby('year')['popularity'].count().plot(kind='barh');\n",
    "labels_func('Movies released','year','The number of movies released during WWI & WWII')"
   ]
  },
  {
   "cell_type": "code",
   "execution_count": 48,
   "metadata": {},
   "outputs": [
    {
     "data": {
      "image/png": "[encoded data removed]",
      "text/plain": [
       "<Figure size 432x288 with 1 Axes>"
      ]
     },
     "metadata": {
      "needs_background": "light"
     },
     "output_type": "display_data"
    }
   ],
   "source": [
    "# group data by year and visualizing the average budget each year\n",
    "ww_impact.groupby('year')['budget'].mean().plot(kind='barh');\n",
    "labels_func('AVG budget in 10m','year','The average budget during WWI & WWII')\n",
    "plt.legend();"
   ]
  },
  {
   "cell_type": "code",
   "execution_count": 47,
   "metadata": {},
   "outputs": [
    {
     "data": {
      "image/png": "[encoded data removed]",
      "text/plain": [
       "<Figure size 432x288 with 1 Axes>"
      ]
     },
     "metadata": {
      "needs_background": "light"
     },
     "output_type": "display_data"
    }
   ],
   "source": [
    "# group data by year and visualizing the average revenue each year\n",
    "ww_impact.groupby('year')['revenue'].mean().plot(kind='barh');\n",
    "labels_func('AVG revenue in 100m','year','The average revenue during WWI & WWII')\n",
    "plt.legend();"
   ]
  },
  {
   "cell_type": "markdown",
   "metadata": {},
   "source": [
    "<a id='conclusions'></a>\n",
    "## Conclusions\n",
    "\n",
    "> **1-**: Movies production are naturally growing and its revenue is increasing\n",
    "\n",
    "> **2-**: After 1950s the ratings are decreasing\n",
    "\n",
    "> **3-**: The production can be affected by econimiacal crisis\n",
    "\n",
    "> **4-**: During WWs the production is rare but gains much money (these periods is famous for war movies to mark the heroic stories of wars and cheer people)"
   ]
  },
  {
   "cell_type": "markdown",
   "metadata": {
    "collapsed": true
   },
   "source": [
    "## Limitations:\n",
    "\n",
    "> **1-**: genre format is too complex to be handeled\n",
    "\n",
    "> **2-**: Production countries and production companies formats are hard to be handeled\n",
    "\n",
    "> **3-**: overview \n",
    "\n",
    "> **4-**: spoken language and keywords formats\n",
    "\n",
    "> **5-**: Old movies data is not enough to investigate a bigger picture of WWs impact"
   ]
  },
  {
   "cell_type": "code",
   "execution_count": null,
   "metadata": {},
   "outputs": [],
   "source": []
  }
 ],
 "metadata": {
  "kernelspec": {
   "display_name": "Python 3",
   "language": "python",
   "name": "python3"
  },
  "language_info": {
   "codemirror_mode": {
    "name": "ipython",
    "version": 3
   },
   "file_extension": ".py",
   "mimetype": "text/x-python",
   "name": "python",
   "nbconvert_exporter": "python",
   "pygments_lexer": "ipython3",
   "version": "3.7.3"
  }
 },
 "nbformat": 4,
 "nbformat_minor": 2
}
